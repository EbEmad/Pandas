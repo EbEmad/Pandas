{
 "cells": [
  {
   "cell_type": "code",
   "execution_count": 4,
   "id": "40ae8f11",
   "metadata": {},
   "outputs": [],
   "source": [
    "import pandas as pd"
   ]
  },
  {
   "cell_type": "code",
   "execution_count": 5,
   "id": "c3fb9bcc",
   "metadata": {},
   "outputs": [],
   "source": [
    "people={'first_name':['Ebrahim','Ali','Mohamed'],'Last_name':['Emad','Ahmed','Saeed'],'Email':['ebemad8@gmail.com','ali7@gmail.com','mo5@gmail.com']}"
   ]
  },
  {
   "cell_type": "code",
   "execution_count": 6,
   "id": "f10b9371",
   "metadata": {},
   "outputs": [],
   "source": [
    "df=pd.DataFrame(people)"
   ]
  },
  {
   "cell_type": "code",
   "execution_count": 7,
   "id": "80337e5e",
   "metadata": {},
   "outputs": [
    {
     "data": {
      "text/html": [
       "<div>\n",
       "<style scoped>\n",
       "    .dataframe tbody tr th:only-of-type {\n",
       "        vertical-align: middle;\n",
       "    }\n",
       "\n",
       "    .dataframe tbody tr th {\n",
       "        vertical-align: top;\n",
       "    }\n",
       "\n",
       "    .dataframe thead th {\n",
       "        text-align: right;\n",
       "    }\n",
       "</style>\n",
       "<table border=\"1\" class=\"dataframe\">\n",
       "  <thead>\n",
       "    <tr style=\"text-align: right;\">\n",
       "      <th></th>\n",
       "      <th>first_name</th>\n",
       "      <th>Last_name</th>\n",
       "      <th>Email</th>\n",
       "    </tr>\n",
       "  </thead>\n",
       "  <tbody>\n",
       "    <tr>\n",
       "      <th>0</th>\n",
       "      <td>Ebrahim</td>\n",
       "      <td>Emad</td>\n",
       "      <td>ebemad8@gmail.com</td>\n",
       "    </tr>\n",
       "    <tr>\n",
       "      <th>1</th>\n",
       "      <td>Ali</td>\n",
       "      <td>Ahmed</td>\n",
       "      <td>ali7@gmail.com</td>\n",
       "    </tr>\n",
       "    <tr>\n",
       "      <th>2</th>\n",
       "      <td>Mohamed</td>\n",
       "      <td>Saeed</td>\n",
       "      <td>mo5@gmail.com</td>\n",
       "    </tr>\n",
       "  </tbody>\n",
       "</table>\n",
       "</div>"
      ],
      "text/plain": [
       "  first_name Last_name              Email\n",
       "0    Ebrahim      Emad  ebemad8@gmail.com\n",
       "1        Ali     Ahmed     ali7@gmail.com\n",
       "2    Mohamed     Saeed      mo5@gmail.com"
      ]
     },
     "execution_count": 7,
     "metadata": {},
     "output_type": "execute_result"
    }
   ],
   "source": [
    "df"
   ]
  },
  {
   "cell_type": "code",
   "execution_count": null,
   "id": "08d49810",
   "metadata": {},
   "outputs": [],
   "source": []
  }
 ],
 "metadata": {
  "kernelspec": {
   "display_name": "Python 3 (ipykernel)",
   "language": "python",
   "name": "python3"
  },
  "language_info": {
   "codemirror_mode": {
    "name": "ipython",
    "version": 3
   },
   "file_extension": ".py",
   "mimetype": "text/x-python",
   "name": "python",
   "nbconvert_exporter": "python",
   "pygments_lexer": "ipython3",
   "version": "3.11.3"
  }
 },
 "nbformat": 4,
 "nbformat_minor": 5
}
